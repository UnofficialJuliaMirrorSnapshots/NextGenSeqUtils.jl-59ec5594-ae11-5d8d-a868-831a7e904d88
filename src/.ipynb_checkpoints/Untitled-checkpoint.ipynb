{
 "cells": [
  {
   "cell_type": "code",
   "execution_count": 7,
   "metadata": {},
   "outputs": [
    {
     "name": "stderr",
     "output_type": "stream",
     "text": [
      "WARNING: redefining constant nl43env\n",
      "WARNING: redefining constant NUCLEOTIDE_BITS\n",
      "WARNING: redefining constant AA_DICT\n",
      "WARNING: redefining constant CHAR_NUC_ALPH\n",
      "WARNING: redefining constant NUCALPH\n",
      "WARNING: redefining constant SIMPLE_ERRORS\n",
      "WARNING: redefining constant NUCLEOTIDE_COLS\n",
      "WARNING: redefining constant PATHS\n"
     ]
    },
    {
     "data": {
      "text/plain": [
       "estimate_distance"
      ]
     },
     "execution_count": 7,
     "metadata": {},
     "output_type": "execute_result"
    }
   ],
   "source": [
    "include(\"./include_all.jl\")"
   ]
  },
  {
   "cell_type": "code",
   "execution_count": 13,
   "metadata": {},
   "outputs": [
    {
     "data": {
      "text/plain": [
       "\"GTCGATAGTCGACTAGCT\""
      ]
     },
     "execution_count": 13,
     "metadata": {},
     "output_type": "execute_result"
    }
   ],
   "source": [
    "#Align\n",
    "#out1, out2 = nw_align(\"GTCGATCGACTAGCTA\",\"GTCGATGCGCCTGCTA\")\n",
    "out1, out2 = triplet_nw_align(\"GTCGATCGACTAGCT\",\"GTCGATAGTCGACTAGCT\")\n",
    "out2"
   ]
  },
  {
   "cell_type": "code",
   "execution_count": 27,
   "metadata": {},
   "outputs": [
    {
     "data": {
      "text/html": [
       "true"
      ],
      "text/plain": [
       "true"
      ]
     },
     "execution_count": 27,
     "metadata": {},
     "output_type": "execute_result"
    }
   ],
   "source": [
    "#Demux\n",
    "out = IUPAC_equals(toIUPACnum(\"N\")[1],toIUPACnum(\"A\")[1])\n",
    "out"
   ]
  },
  {
   "cell_type": "code",
   "execution_count": 29,
   "metadata": {},
   "outputs": [
    {
     "data": {
      "text/html": [
       "0.23963672893825572"
      ],
      "text/plain": [
       "0.23963672893825572"
      ]
     },
     "execution_count": 29,
     "metadata": {},
     "output_type": "execute_result"
    }
   ],
   "source": [
    "#Evo dists\n",
    "out = estimate_distance(\"GTCGATCGACTAGCT\", \"GACGCTCGACTAGGT\")\n",
    "out"
   ]
  },
  {
   "cell_type": "code",
   "execution_count": 32,
   "metadata": {},
   "outputs": [
    {
     "ename": "LoadError",
     "evalue": "\u001b[91msyntax: unexpected \",\"\u001b[39m",
     "output_type": "error",
     "traceback": [
      "\u001b[91msyntax: unexpected \",\"\u001b[39m",
      ""
     ]
    }
   ],
   "source": [
    "#HMMs\n",
    "seqs = [\"GTCGATCGACTAGCTGCATGACTGACATCGACATCGACGGAGCATGACTAGGACGACGAGCATC\", \"GTCGATCGACTAGCTGCATGACTGACATCGACATCGACGGAGCATGACTAGGACGACGAGCATC\", \"GTCGATCGACTAGCTGCATGACTGACATCGACATCGACGGAGCATGACTAGGACGACGAGCATCAAAAAAAAAAAAAAAAAAAAA\"]  \n",
    "names = [\"s1\", \"s2\", \"s3\"]\n",
    "phreds = [[UInt8(30) for i in 1:length(seq)] for seq in seqs]\n",
    "newseqs, newphreds, newnames = homopolymer_filter(seqs, phreds, names)\n",
    "newseqs\n",
    "newphreds\n",
    "newnames\n",
    "\n"
   ]
  },
  {
   "cell_type": "code",
   "execution_count": null,
   "metadata": {},
   "outputs": [],
   "source": []
  }
 ],
 "metadata": {
  "kernelspec": {
   "display_name": "Julia 0.6.4",
   "language": "julia",
   "name": "julia-0.6"
  },
  "language_info": {
   "file_extension": ".jl",
   "mimetype": "application/julia",
   "name": "julia",
   "version": "0.6.4"
  }
 },
 "nbformat": 4,
 "nbformat_minor": 2
}
